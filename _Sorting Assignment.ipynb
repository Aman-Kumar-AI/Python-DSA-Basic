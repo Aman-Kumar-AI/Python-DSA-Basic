{
 "cells": [
  {
   "cell_type": "markdown",
   "id": "103cd3ad-889d-4086-9169-447b01ed718c",
   "metadata": {},
   "source": [
    "### Problem 1.Given an array of n numbers, give an algorithm which gives the element appearing maximum number of times?"
   ]
  },
  {
   "cell_type": "code",
   "execution_count": 29,
   "id": "9735228b-d984-49c7-81de-df4ca1c8cb74",
   "metadata": {},
   "outputs": [
    {
     "name": "stdout",
     "output_type": "stream",
     "text": [
      "Element with maximum occurrence: 4\n"
     ]
    }
   ],
   "source": [
    "def find_max_occurrence(arr):\n",
    "    counts = {}\n",
    "    max_element = None\n",
    "    max_count = 0\n",
    "\n",
    "    for num in arr:\n",
    "        counts[num] = counts.get(num, 0) + 1\n",
    "        if counts[num] > max_count:\n",
    "            max_count = counts[num]\n",
    "            max_element = num\n",
    "\n",
    "    return max_element\n",
    "\n",
    "# Example usage:\n",
    "arr1 = [1, 2, 2, 3, 3, 3, 4, 4, 4, 4]\n",
    "result1 = find_max_occurrence(arr1)\n",
    "print(\"Element with maximum occurrence:\", result1)"
   ]
  },
  {
   "cell_type": "markdown",
   "id": "7ecd794c-236d-4f44-8cf9-3d6d3e6d4b96",
   "metadata": {},
   "source": [
    "### Problem 2 : We are given a list of n-1 integers and these integers are in the range of 1 to n . There are no duplicates in the list. One of the integers is missing in the list. Give an algorithm to find that element Ex: [1,2,4,6,3,7,8] 5 is the missing num."
   ]
  },
  {
   "cell_type": "code",
   "execution_count": 30,
   "id": "6d1dfd41-7365-4156-a772-d40c244f62e5",
   "metadata": {},
   "outputs": [
    {
     "name": "stdout",
     "output_type": "stream",
     "text": [
      "Missing element: 5\n"
     ]
    }
   ],
   "source": [
    "def find_missing_element(arr):\n",
    "    n = len(arr) + 1\n",
    "    expected_sum = n * (n + 1) // 2\n",
    "    actual_sum = sum(arr)\n",
    "    missing_element = expected_sum - actual_sum\n",
    "\n",
    "    return missing_element\n",
    "\n",
    "# Example usage:\n",
    "arr2 = [1, 2, 4, 6, 3, 7, 8]\n",
    "result2 = find_missing_element(arr2)\n",
    "print(\"Missing element:\", result2)"
   ]
  },
  {
   "cell_type": "markdown",
   "id": "649f5f1f-97ee-41ef-bf96-18eba6c4df46",
   "metadata": {},
   "source": [
    "### Problem 3 : Given an array of n positive numbers. All numbers occurs even number of times except 1 which occurs odd number of times. Find that number in O(n) time and O(1) space. Ex: [1,2,3,2,3,1,3]. 3 is repeats oddtimes."
   ]
  },
  {
   "cell_type": "code",
   "execution_count": 31,
   "id": "949cffc1-2907-4c5a-997e-5aae67c908e1",
   "metadata": {},
   "outputs": [
    {
     "name": "stdout",
     "output_type": "stream",
     "text": [
      "Number occurring odd times: 3\n"
     ]
    }
   ],
   "source": [
    "def find_odd_occurrence(arr):\n",
    "    result = 0\n",
    "    for num in arr:\n",
    "        result ^= num\n",
    "    return result\n",
    "\n",
    "# Example usage:\n",
    "arr3 = [1, 2, 3, 2, 3, 1, 3]\n",
    "result3 = find_odd_occurrence(arr3)\n",
    "print(\"Number occurring odd times:\", result3)"
   ]
  },
  {
   "cell_type": "markdown",
   "id": "78ce8d2f-f4da-4ba8-bedf-99f1bc53f5be",
   "metadata": {},
   "source": [
    "### Problem 4 : Given an array of n elements. Find two elements in the array such that their sum is equal to givenelement K."
   ]
  },
  {
   "cell_type": "code",
   "execution_count": 32,
   "id": "fa1b3bf0-e482-41dc-a4ad-8a16aa0ce747",
   "metadata": {},
   "outputs": [
    {
     "name": "stdout",
     "output_type": "stream",
     "text": [
      "Elements with sum equal to 10 : [6, 4]\n"
     ]
    }
   ],
   "source": [
    "def find_elements_with_sum(arr, k):\n",
    "    seen = set()\n",
    "\n",
    "    for num in arr:\n",
    "        complement = k - num\n",
    "        if complement in seen:\n",
    "            return [num, complement]\n",
    "        seen.add(num)\n",
    "\n",
    "    return None\n",
    "\n",
    "# Example usage:\n",
    "arr4 = [1, 2, 4, 6, 8]\n",
    "k4 = 10\n",
    "result4 = find_elements_with_sum(arr4, k4)\n",
    "print(\"Elements with sum equal to\", k4, \":\", result4)"
   ]
  },
  {
   "cell_type": "markdown",
   "id": "e5ec1fec-7092-4e78-a948-440804d0b5fb",
   "metadata": {},
   "source": [
    "### Problem 5 : Given an array of both positive and negative numbers, find two numbers such that their sum is closest to 0. Ex: [ 1 ,60 ,-10, 70, -80,85]. Ans : -80,85."
   ]
  },
  {
   "cell_type": "code",
   "execution_count": 33,
   "id": "d02e886f-256b-448d-8d45-a00cc80472ad",
   "metadata": {},
   "outputs": [
    {
     "name": "stdout",
     "output_type": "stream",
     "text": [
      "Elements with sum closest to 0: [-10, 1]\n"
     ]
    }
   ],
   "source": [
    "def find_elements_closest_to_zero(arr):\n",
    "    arr.sort()\n",
    "    closest_sum = float('inf')\n",
    "    result = []\n",
    "\n",
    "    for i in range(len(arr) - 1):\n",
    "        current_sum = arr[i] + arr[i + 1]\n",
    "        if abs(current_sum) < closest_sum:\n",
    "            closest_sum = abs(current_sum)\n",
    "            result = [arr[i], arr[i + 1]]\n",
    "\n",
    "    return result\n",
    "\n",
    "# Example usage:\n",
    "arr5 = [1, 60, -10, 70, -80, 85]\n",
    "result5 = find_elements_closest_to_zero(arr5)\n",
    "print(\"Elements with sum closest to 0:\", result5)"
   ]
  },
  {
   "cell_type": "markdown",
   "id": "a0b89cc7-353e-44f7-9ee8-cd5f268ac4d2",
   "metadata": {},
   "source": [
    "### Problem 6 : Given an array of n elements . Find three elements such that their sum is equal to the given number."
   ]
  },
  {
   "cell_type": "code",
   "execution_count": 34,
   "id": "56ef21dd-353b-410a-a49d-2756efc21e95",
   "metadata": {},
   "outputs": [
    {
     "name": "stdout",
     "output_type": "stream",
     "text": [
      "Three elements with sum equal to 17 : [3, 5, 9]\n"
     ]
    }
   ],
   "source": [
    "def find_three_elements_with_sum(arr, target_sum):\n",
    "    arr.sort()\n",
    "    n = len(arr)\n",
    "\n",
    "    for i in range(n - 2):\n",
    "        left, right = i + 1, n - 1\n",
    "        while left < right:\n",
    "            current_sum = arr[i] + arr[left] + arr[right]\n",
    "            if current_sum == target_sum:\n",
    "                return [arr[i], arr[left], arr[right]]\n",
    "            elif current_sum < target_sum:\n",
    "                left += 1\n",
    "            else:\n",
    "                right -= 1\n",
    "\n",
    "    return None\n",
    "\n",
    "# Example usage:\n",
    "arr6 = [1, 4, 2, 8, 3, 5, 9]\n",
    "target_sum6 = 17\n",
    "result6 = find_three_elements_with_sum(arr6, target_sum6)\n",
    "print(\"Three elements with sum equal to\", target_sum6, \":\", result6)"
   ]
  },
  {
   "cell_type": "markdown",
   "id": "2ccbf0e8-a6e2-4ada-95ad-854c498e509c",
   "metadata": {},
   "source": [
    "### Problem 7 : Given an array of n elements . Find three elements i, j, k in the array such that i * i + j * j = k*k."
   ]
  },
  {
   "cell_type": "code",
   "execution_count": 35,
   "id": "3ac4c2ae-b8f6-4d3a-8b35-f3e0722788f6",
   "metadata": {},
   "outputs": [
    {
     "name": "stdout",
     "output_type": "stream",
     "text": [
      "Pythagorean triplet: [3, 4, 5]\n"
     ]
    }
   ],
   "source": [
    "def find_pythagorean_triplet(arr):\n",
    "    squared_set = set(x * x for x in arr)\n",
    "\n",
    "    for i in range(len(arr) - 1):\n",
    "        for j in range(i + 1, len(arr)):\n",
    "            if arr[i] * arr[i] + arr[j] * arr[j] in squared_set:\n",
    "                return [arr[i], arr[j], int((arr[i] * arr[i] + arr[j] * arr[j]) ** 0.5)]\n",
    "\n",
    "    return None\n",
    "\n",
    "# Example usage:\n",
    "arr7 = [3, 1, 4, 6, 5]\n",
    "result7 = find_pythagorean_triplet(arr7)\n",
    "print(\"Pythagorean triplet:\", result7)"
   ]
  },
  {
   "cell_type": "markdown",
   "id": "b2ebd3f6-d682-4f88-9f9c-c7306475f5bc",
   "metadata": {
    "tags": []
   },
   "source": [
    "### Problem 8 : An element is a majority if it appears more than n/2 times. Give an algorithm takes an array of n element as argument and identifies a majority (if it exists)."
   ]
  },
  {
   "cell_type": "code",
   "execution_count": 36,
   "id": "5d6b8933-f861-4189-8e93-4a8da581b185",
   "metadata": {},
   "outputs": [
    {
     "name": "stdout",
     "output_type": "stream",
     "text": [
      "Majority element: 3\n"
     ]
    }
   ],
   "source": [
    "def find_majority_element(arr):\n",
    "    candidate, count = None, 0\n",
    "\n",
    "    for num in arr:\n",
    "        if count == 0:\n",
    "            candidate = num\n",
    "        count += 1 if candidate == num else -1\n",
    "\n",
    "    # Verify if the candidate is a majority element\n",
    "    if arr.count(candidate) > len(arr) // 2:\n",
    "        return candidate\n",
    "    else:\n",
    "        return None\n",
    "\n",
    "# Example usage:\n",
    "arr8 = [3, 3, 3,4, 2,3,4]\n",
    "result8 = find_majority_element(arr8)\n",
    "print(\"Majority element:\", result8)"
   ]
  },
  {
   "cell_type": "markdown",
   "id": "dab84598-023d-48cc-b779-baf03416bcb5",
   "metadata": {},
   "source": [
    "### Problem 9 : Given n × n matrix, and in each row all 1’s are followed by 0’s. Find the row with the maximum number of 0’s."
   ]
  },
  {
   "cell_type": "code",
   "execution_count": 37,
   "id": "09f04611-cfad-4b4c-b9eb-047536dd29ef",
   "metadata": {},
   "outputs": [
    {
     "name": "stdout",
     "output_type": "stream",
     "text": [
      "Row with maximum 0's: 2\n"
     ]
    }
   ],
   "source": [
    "def find_row_with_max_zeros(matrix):\n",
    "    max_zeros_row = -1\n",
    "    max_zeros_count = -1\n",
    "\n",
    "    for i, row in enumerate(matrix):\n",
    "        zeros_count = row.count(0)\n",
    "        if zeros_count > max_zeros_count:\n",
    "            max_zeros_count = zeros_count\n",
    "            max_zeros_row = i\n",
    "\n",
    "    return max_zeros_row\n",
    "\n",
    "# Example usage:\n",
    "matrix9 = [\n",
    "    [1, 1, 1, 0, 0],\n",
    "    [1, 1, 1, 1, 0],\n",
    "    [0, 0, 1, 0, 0],\n",
    "    [1, 1, 1, 1, 1],\n",
    "    [1, 1, 1, 0, 0]\n",
    "]\n",
    "result9 = find_row_with_max_zeros(matrix9)\n",
    "print(\"Row with maximum 0's:\", result9)"
   ]
  },
  {
   "cell_type": "markdown",
   "id": "b9cb888c-ebed-4d36-ba54-c13b75712d69",
   "metadata": {},
   "source": [
    "### Problem 10 : Sort an array of 0’s, 1’s and 2’s [or R’s, G’s and B’s]: Given an array A[] consisting of 0’s, 1’s and 2’s, give an algorithm for sorting A[].The algorithm should put all 0’s first, then all 1’s and finally all 2’s at the end. Example Input = {0,1,1,0,1,2,1,2,0,0,0,1}, Output = {0,0,0,0,0,1,1,1,1,1,2,2}"
   ]
  },
  {
   "cell_type": "code",
   "execution_count": 38,
   "id": "4861d1f0-515b-4c4f-a87e-91995f9dcdf6",
   "metadata": {},
   "outputs": [
    {
     "name": "stdout",
     "output_type": "stream",
     "text": [
      "Sorted array: [0, 0, 0, 0, 0, 1, 1, 1, 1, 1, 2, 2]\n"
     ]
    }
   ],
   "source": [
    "def sort_colors(arr):\n",
    "    low, mid, high = 0, 0, len(arr) - 1\n",
    "\n",
    "    while mid <= high:\n",
    "        if arr[mid] == 0:\n",
    "            arr[low], arr[mid] = arr[mid], arr[low]\n",
    "            low += 1\n",
    "            mid += 1\n",
    "        elif arr[mid] == 1:\n",
    "            mid += 1\n",
    "        else:\n",
    "            arr[mid], arr[high] = arr[high], arr[mid]\n",
    "            high -= 1\n",
    "\n",
    "# Example usage:\n",
    "arr10 = [0, 1, 1, 0, 1, 2, 1, 2, 0, 0, 0, 1]\n",
    "sort_colors(arr10)\n",
    "print(\"Sorted array:\", arr10)"
   ]
  },
  {
   "cell_type": "code",
   "execution_count": null,
   "id": "3ea3c411-46d2-495d-859c-c8017a8a2bc4",
   "metadata": {},
   "outputs": [],
   "source": []
  }
 ],
 "metadata": {
  "kernelspec": {
   "display_name": "Python 3 (ipykernel)",
   "language": "python",
   "name": "python3"
  },
  "language_info": {
   "codemirror_mode": {
    "name": "ipython",
    "version": 3
   },
   "file_extension": ".py",
   "mimetype": "text/x-python",
   "name": "python",
   "nbconvert_exporter": "python",
   "pygments_lexer": "ipython3",
   "version": "3.10.8"
  }
 },
 "nbformat": 4,
 "nbformat_minor": 5
}
